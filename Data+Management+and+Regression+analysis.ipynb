{
 "cells": [
  {
   "cell_type": "markdown",
   "metadata": {},
   "source": [
    "# Data Management and Regression Analysis"
   ]
  },
  {
   "cell_type": "markdown",
   "metadata": {},
   "source": [
    "### Importing libraries"
   ]
  },
  {
   "cell_type": "code",
   "execution_count": 23,
   "metadata": {
    "collapsed": true
   },
   "outputs": [],
   "source": [
    "import pandas as pd\n",
    "import numpy as np\n",
    "import matplotlib.pyplot as plt\n",
    "import statsmodels.formula.api as sm\n",
    "import seaborn as sns"
   ]
  },
  {
   "cell_type": "markdown",
   "metadata": {},
   "source": [
    "### Importing Audit fee data"
   ]
  },
  {
   "cell_type": "code",
   "execution_count": 71,
   "metadata": {
    "collapsed": true
   },
   "outputs": [],
   "source": [
    "AuditFee = pd.read_csv('/Users/divyapisal/Downloads/Audit fees 2016 small set.csv')\n",
    "\n",
    "# Alter the names of columns in the file to match corresponding columns in Compustat file\n",
    "\n",
    "AuditFee = AuditFee.rename(index=str, columns={\"BEST_EDGAR_TICKER\": \"tic\"})\n",
    "AuditFee = AuditFee.rename(index=str, columns={\"FISCAL_YEAR\": \"fyear\"})"
   ]
  },
  {
   "cell_type": "markdown",
   "metadata": {},
   "source": [
    "### Import Financial characteristics data"
   ]
  },
  {
   "cell_type": "code",
   "execution_count": 72,
   "metadata": {
    "collapsed": true
   },
   "outputs": [],
   "source": [
    "Compustat = pd.read_csv('/Users/divyapisal/Downloads/Compustat match with Audit fees 2016 small set.csv')"
   ]
  },
  {
   "cell_type": "markdown",
   "metadata": {},
   "source": [
    "### Combining data from both files"
   ]
  },
  {
   "cell_type": "code",
   "execution_count": 74,
   "metadata": {
    "collapsed": true
   },
   "outputs": [],
   "source": [
    "Merge = pd.merge(AuditFee, Compustat, on=['tic', 'fyear'], how='outer')"
   ]
  },
  {
   "cell_type": "markdown",
   "metadata": {},
   "source": [
    "We do an outer merge on the file based on the common columns in Audit fee file that we had renamed in a previous step to match the corresponding matching columns in the compustat file."
   ]
  },
  {
   "cell_type": "markdown",
   "metadata": {},
   "source": [
    "### Cleaning data and computing Correlation matrix"
   ]
  },
  {
   "cell_type": "code",
   "execution_count": 70,
   "metadata": {},
   "outputs": [
    {
     "data": {
      "text/html": [
       "<div>\n",
       "<style>\n",
       "    .dataframe thead tr:only-child th {\n",
       "        text-align: right;\n",
       "    }\n",
       "\n",
       "    .dataframe thead th {\n",
       "        text-align: left;\n",
       "    }\n",
       "\n",
       "    .dataframe tbody tr th {\n",
       "        vertical-align: top;\n",
       "    }\n",
       "</style>\n",
       "<table border=\"1\" class=\"dataframe\">\n",
       "  <thead>\n",
       "    <tr style=\"text-align: right;\">\n",
       "      <th></th>\n",
       "      <th>AUDIT_FEES</th>\n",
       "      <th>act</th>\n",
       "      <th>at</th>\n",
       "      <th>mkvalt</th>\n",
       "    </tr>\n",
       "  </thead>\n",
       "  <tbody>\n",
       "    <tr>\n",
       "      <th>AUDIT_FEES</th>\n",
       "      <td>1.000000</td>\n",
       "      <td>0.885190</td>\n",
       "      <td>0.885271</td>\n",
       "      <td>0.857554</td>\n",
       "    </tr>\n",
       "    <tr>\n",
       "      <th>act</th>\n",
       "      <td>0.885190</td>\n",
       "      <td>1.000000</td>\n",
       "      <td>0.980281</td>\n",
       "      <td>0.520974</td>\n",
       "    </tr>\n",
       "    <tr>\n",
       "      <th>at</th>\n",
       "      <td>0.885271</td>\n",
       "      <td>0.980281</td>\n",
       "      <td>1.000000</td>\n",
       "      <td>0.950604</td>\n",
       "    </tr>\n",
       "    <tr>\n",
       "      <th>mkvalt</th>\n",
       "      <td>0.857554</td>\n",
       "      <td>0.520974</td>\n",
       "      <td>0.950604</td>\n",
       "      <td>1.000000</td>\n",
       "    </tr>\n",
       "  </tbody>\n",
       "</table>\n",
       "</div>"
      ],
      "text/plain": [
       "            AUDIT_FEES       act        at    mkvalt\n",
       "AUDIT_FEES    1.000000  0.885190  0.885271  0.857554\n",
       "act           0.885190  1.000000  0.980281  0.520974\n",
       "at            0.885271  0.980281  1.000000  0.950604\n",
       "mkvalt        0.857554  0.520974  0.950604  1.000000"
      ]
     },
     "execution_count": 70,
     "metadata": {},
     "output_type": "execute_result"
    }
   ],
   "source": [
    "# Create a dataframe with only required columns from the merged data\n",
    "df = Merge[['fyear', 'tic', 'AUDIT_FEES', 'act', 'at', 'mkvalt']]\n",
    "\n",
    "# Fill all the NaN value with 0\n",
    "df.fillna(0)\n",
    "\n",
    "values = df.drop(['fyear', 'tic'], axis=1)\n",
    "corr = values.corr()\n",
    "corr"
   ]
  },
  {
   "cell_type": "markdown",
   "metadata": {},
   "source": [
    "We create the correlation matrix to analyze which financial characteristics have strongest relationship with Audit Fees. As we can observe from the matrix the Total Assets (at) and Current total Assets (act) have the highest correlation with Audit Fees."
   ]
  },
  {
   "cell_type": "markdown",
   "metadata": {},
   "source": [
    "### Visualizing Correlation matrix"
   ]
  },
  {
   "cell_type": "code",
   "execution_count": 59,
   "metadata": {},
   "outputs": [
    {
     "data": {
      "image/png": "[encoded data removed]",
      "text/plain": [
       "<matplotlib.figure.Figure at 0x1a22f5a8d0>"
      ]
     },
     "metadata": {},
     "output_type": "display_data"
    }
   ],
   "source": [
    "sns.heatmap(corr, \n",
    "            xticklabels=corr.columns.values,\n",
    "            yticklabels=corr.columns.values)\n",
    "plt.show()"
   ]
  },
  {
   "cell_type": "markdown",
   "metadata": {},
   "source": [
    "The audit matrix  too demostrates that at and act have higest correlation"
   ]
  },
  {
   "cell_type": "markdown",
   "metadata": {},
   "source": [
    "### Plot all financial characteristics against Audit fees"
   ]
  },
  {
   "cell_type": "code",
   "execution_count": 53,
   "metadata": {},
   "outputs": [
    {
     "data": {
      "image/png": "[encoded data removed]",
      "text/plain": [
       "<matplotlib.figure.Figure at 0x1a22eb47b8>"
      ]
     },
     "metadata": {},
     "output_type": "display_data"
    }
   ],
   "source": [
    "pp = sns.pairplot(data=df,\n",
    "                  y_vars=['AUDIT_FEES'],\n",
    "                  x_vars=['act', 'at', 'mkvalt'])\n",
    "plt.show()"
   ]
  },
  {
   "cell_type": "markdown",
   "metadata": {},
   "source": [
    "### Regression summary"
   ]
  },
  {
   "cell_type": "code",
   "execution_count": 56,
   "metadata": {},
   "outputs": [
    {
     "data": {
      "text/html": [
       "<table class=\"simpletable\">\n",
       "<caption>OLS Regression Results</caption>\n",
       "<tr>\n",
       "  <th>Dep. Variable:</th>       <td>AUDIT_FEES</td>    <th>  R-squared:         </th> <td>   0.801</td>\n",
       "</tr>\n",
       "<tr>\n",
       "  <th>Model:</th>                   <td>OLS</td>       <th>  Adj. R-squared:    </th> <td>   0.769</td>\n",
       "</tr>\n",
       "<tr>\n",
       "  <th>Method:</th>             <td>Least Squares</td>  <th>  F-statistic:       </th> <td>   25.43</td>\n",
       "</tr>\n",
       "<tr>\n",
       "  <th>Date:</th>             <td>Sun, 21 Oct 2018</td> <th>  Prob (F-statistic):</th> <td>7.27e-07</td>\n",
       "</tr>\n",
       "<tr>\n",
       "  <th>Time:</th>                 <td>16:29:46</td>     <th>  Log-Likelihood:    </th> <td> -388.44</td>\n",
       "</tr>\n",
       "<tr>\n",
       "  <th>No. Observations:</th>      <td>    23</td>      <th>  AIC:               </th> <td>   784.9</td>\n",
       "</tr>\n",
       "<tr>\n",
       "  <th>Df Residuals:</th>          <td>    19</td>      <th>  BIC:               </th> <td>   789.4</td>\n",
       "</tr>\n",
       "<tr>\n",
       "  <th>Df Model:</th>              <td>     3</td>      <th>                     </th>     <td> </td>   \n",
       "</tr>\n",
       "<tr>\n",
       "  <th>Covariance Type:</th>      <td>nonrobust</td>    <th>                     </th>     <td> </td>   \n",
       "</tr>\n",
       "</table>\n",
       "<table class=\"simpletable\">\n",
       "<tr>\n",
       "      <td></td>         <th>coef</th>     <th>std err</th>      <th>t</th>      <th>P>|t|</th>  <th>[0.025</th>    <th>0.975]</th>  \n",
       "</tr>\n",
       "<tr>\n",
       "  <th>Intercept</th> <td> 3.324e+06</td> <td> 1.64e+06</td> <td>    2.025</td> <td> 0.057</td> <td>-1.11e+05</td> <td> 6.76e+06</td>\n",
       "</tr>\n",
       "<tr>\n",
       "  <th>act</th>       <td>  403.9142</td> <td>  140.561</td> <td>    2.874</td> <td> 0.010</td> <td>  109.717</td> <td>  698.111</td>\n",
       "</tr>\n",
       "<tr>\n",
       "  <th>at</th>        <td>  -16.7644</td> <td>   63.313</td> <td>   -0.265</td> <td> 0.794</td> <td> -149.279</td> <td>  115.751</td>\n",
       "</tr>\n",
       "<tr>\n",
       "  <th>mkvalt</th>    <td>   11.8254</td> <td>   45.990</td> <td>    0.257</td> <td> 0.800</td> <td>  -84.433</td> <td>  108.084</td>\n",
       "</tr>\n",
       "</table>\n",
       "<table class=\"simpletable\">\n",
       "<tr>\n",
       "  <th>Omnibus:</th>       <td>25.949</td> <th>  Durbin-Watson:     </th> <td>   2.172</td>\n",
       "</tr>\n",
       "<tr>\n",
       "  <th>Prob(Omnibus):</th> <td> 0.000</td> <th>  Jarque-Bera (JB):  </th> <td>  40.424</td>\n",
       "</tr>\n",
       "<tr>\n",
       "  <th>Skew:</th>          <td> 2.259</td> <th>  Prob(JB):          </th> <td>1.67e-09</td>\n",
       "</tr>\n",
       "<tr>\n",
       "  <th>Kurtosis:</th>      <td> 7.666</td> <th>  Cond. No.          </th> <td>1.19e+05</td>\n",
       "</tr>\n",
       "</table>"
      ],
      "text/plain": [
       "<class 'statsmodels.iolib.summary.Summary'>\n",
       "\"\"\"\n",
       "                            OLS Regression Results                            \n",
       "==============================================================================\n",
       "Dep. Variable:             AUDIT_FEES   R-squared:                       0.801\n",
       "Model:                            OLS   Adj. R-squared:                  0.769\n",
       "Method:                 Least Squares   F-statistic:                     25.43\n",
       "Date:                Sun, 21 Oct 2018   Prob (F-statistic):           7.27e-07\n",
       "Time:                        16:29:46   Log-Likelihood:                -388.44\n",
       "No. Observations:                  23   AIC:                             784.9\n",
       "Df Residuals:                      19   BIC:                             789.4\n",
       "Df Model:                           3                                         \n",
       "Covariance Type:            nonrobust                                         \n",
       "==============================================================================\n",
       "                 coef    std err          t      P>|t|      [0.025      0.975]\n",
       "------------------------------------------------------------------------------\n",
       "Intercept   3.324e+06   1.64e+06      2.025      0.057   -1.11e+05    6.76e+06\n",
       "act          403.9142    140.561      2.874      0.010     109.717     698.111\n",
       "at           -16.7644     63.313     -0.265      0.794    -149.279     115.751\n",
       "mkvalt        11.8254     45.990      0.257      0.800     -84.433     108.084\n",
       "==============================================================================\n",
       "Omnibus:                       25.949   Durbin-Watson:                   2.172\n",
       "Prob(Omnibus):                  0.000   Jarque-Bera (JB):               40.424\n",
       "Skew:                           2.259   Prob(JB):                     1.67e-09\n",
       "Kurtosis:                       7.666   Cond. No.                     1.19e+05\n",
       "==============================================================================\n",
       "\n",
       "Warnings:\n",
       "[1] Standard Errors assume that the covariance matrix of the errors is correctly specified.\n",
       "[2] The condition number is large, 1.19e+05. This might indicate that there are\n",
       "strong multicollinearity or other numerical problems.\n",
       "\"\"\""
      ]
     },
     "execution_count": 56,
     "metadata": {},
     "output_type": "execute_result"
    }
   ],
   "source": [
    "result = sm.ols(formula=\"AUDIT_FEES ~ act + at + mkvalt\", data=df).fit()\n",
    "result.summary()"
   ]
  },
  {
   "cell_type": "markdown",
   "metadata": {},
   "source": [
    "### Single regression plots of the most significant financial characteristics"
   ]
  },
  {
   "cell_type": "markdown",
   "metadata": {},
   "source": [
    "#### Audit fee ~ ACT Regression plot"
   ]
  },
  {
   "cell_type": "code",
   "execution_count": 66,
   "metadata": {},
   "outputs": [
    {
     "data": {
      "image/png": "[encoded data removed]",
      "text/plain": [
       "<matplotlib.figure.Figure at 0x1a22f67d68>"
      ]
     },
     "metadata": {},
     "output_type": "display_data"
    }
   ],
   "source": [
    "sns.regplot(x=\"act\", y=\"AUDIT_FEES\", data=df)\n",
    "plt.show()"
   ]
  },
  {
   "cell_type": "markdown",
   "metadata": {},
   "source": [
    "#### Audit fee ~ AT Regression plot"
   ]
  },
  {
   "cell_type": "code",
   "execution_count": 67,
   "metadata": {},
   "outputs": [
    {
     "data": {
      "image/png": "[encoded data removed]",
      "text/plain": [
       "<matplotlib.figure.Figure at 0x1a23917cf8>"
      ]
     },
     "metadata": {},
     "output_type": "display_data"
    }
   ],
   "source": [
    "sns.regplot(x=\"at\", y=\"AUDIT_FEES\", data=df)\n",
    "plt.show()"
   ]
  },
  {
   "cell_type": "markdown",
   "metadata": {},
   "source": [
    "I chose to display the regression plots for \"AT\" and \"ACT\" are plotted based on the Regression summary and the correlation matrix. These financial characteristics were found to have the most dependancy on the Audit fee.\n",
    "\n",
    "Regression analysis is a great tool to analyze the relationship between variables. It can help businesses create models to project future supply/demand by establishing factors that influence the said parameters. It can also be used to optimize business processes by laying the foundations to examine the processes by verifying dependencies of different factors."
   ]
  }
 ],
 "metadata": {
  "kernelspec": {
   "display_name": "Python 3",
   "language": "python",
   "name": "python3"
  },
  "language_info": {
   "codemirror_mode": {
    "name": "ipython",
    "version": 3
   },
   "file_extension": ".py",
   "mimetype": "text/x-python",
   "name": "python",
   "nbconvert_exporter": "python",
   "pygments_lexer": "ipython3",
   "version": "3.6.2"
  }
 },
 "nbformat": 4,
 "nbformat_minor": 2
}
